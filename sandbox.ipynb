{
 "cells": [
  {
   "cell_type": "code",
   "execution_count": 1,
   "metadata": {},
   "outputs": [
    {
     "data": {
      "text/plain": [
       "True"
      ]
     },
     "execution_count": 1,
     "metadata": {},
     "output_type": "execute_result"
    }
   ],
   "source": [
    "from dotenv import load_dotenv  \n",
    "import os\n",
    "\n",
    "# Automatically loads langsmith if configured properly in .env\n",
    "# Langsmith is cool so long as we dont want to be private then phoenix or langtrace or langfuse\n",
    "load_dotenv()"
   ]
  },
  {
   "cell_type": "code",
   "execution_count": 2,
   "metadata": {},
   "outputs": [
    {
     "data": {
      "text/plain": [
       "'https://api.smith.langchain.com'"
      ]
     },
     "execution_count": 2,
     "metadata": {},
     "output_type": "execute_result"
    }
   ],
   "source": [
    "os.environ[\"LANGCHAIN_ENDPOINT\"]"
   ]
  },
  {
   "cell_type": "code",
   "execution_count": 3,
   "metadata": {},
   "outputs": [],
   "source": [
    "wsl_base_url = \"http://localhost:11434/\" # NOTE: check if wsl or windows ollama\n",
    "host_base_url = \"http://windows-host:11434\"\n",
    "model = \"llama3.2\""
   ]
  },
  {
   "cell_type": "code",
   "execution_count": 4,
   "metadata": {},
   "outputs": [],
   "source": [
    "from langchain_ollama import ChatOllama"
   ]
  },
  {
   "cell_type": "code",
   "execution_count": 5,
   "metadata": {},
   "outputs": [],
   "source": [
    "llm = ChatOllama(\n",
    "    base_url=host_base_url,\n",
    "    model=model,\n",
    "    temperature=0.5,\n",
    "    num_predict= 10000\n",
    ")"
   ]
  },
  {
   "cell_type": "code",
   "execution_count": 10,
   "metadata": {},
   "outputs": [],
   "source": [
    "resp = llm.invoke(\"Hi\")"
   ]
  },
  {
   "cell_type": "code",
   "execution_count": 11,
   "metadata": {},
   "outputs": [
    {
     "data": {
      "text/plain": [
       "'How can I assist you today?'"
      ]
     },
     "execution_count": 11,
     "metadata": {},
     "output_type": "execute_result"
    }
   ],
   "source": [
    "resp.content"
   ]
  },
  {
   "cell_type": "code",
   "execution_count": 8,
   "metadata": {},
   "outputs": [],
   "source": [
    "# a prompt template allow us to prepare system and human messages for the ai"
   ]
  },
  {
   "cell_type": "code",
   "execution_count": 23,
   "metadata": {},
   "outputs": [
    {
     "name": "stdout",
     "output_type": "stream",
     "text": [
      "Here are three key points about financial literacy:\n",
      "\n",
      "1. **Understanding Financial Basics**: Financial literacy involves having a basic understanding of financial concepts such as budgeting, saving, investing, and managing debt. This includes knowing how to create a budget, prioritize expenses, and make informed decisions about money management.\n",
      "\n",
      "2. **Making Informed Decisions**: Financial literacy also means being able to make informed decisions about financial products and services, such as credit cards, loans, and investments. This involves understanding the terms and conditions of these products, including interest rates, fees, and repayment terms.\n",
      "\n",
      "3. **Managing Risk and Building Wealth**: Financial literacy is not just about managing expenses and debt, but also about building wealth and managing risk. This includes understanding how to invest in assets such as stocks, real estate, or retirement accounts, as well as how to protect against financial risks such as inflation, market downturns, or unexpected expenses.\n",
      "\n",
      "By achieving financial literacy, individuals can take control of their financial lives, make informed decisions about money management, and achieve long-term financial stability and success.\n"
     ]
    }
   ],
   "source": [
    "question = \"tell me about financial literacy in 3 points\"\n",
    "response = llm.invoke(question)\n",
    "print(response.content)"
   ]
  },
  {
   "cell_type": "code",
   "execution_count": 10,
   "metadata": {},
   "outputs": [],
   "source": [
    "# adding a system message"
   ]
  },
  {
   "cell_type": "code",
   "execution_count": 50,
   "metadata": {},
   "outputs": [],
   "source": [
    "from langchain_core.messages import SystemMessage, HumanMessage\n",
    "# each query to the model must have a system, user and assitant promt templates. Assistant is the AI model"
   ]
  },
  {
   "cell_type": "code",
   "execution_count": 13,
   "metadata": {},
   "outputs": [],
   "source": [
    "messages = [\n",
    "                SystemMessage(\n",
    "                    content=\"You are a quantatitative financial assistant / teacher of financial literacy! Your name is Denzel. You speak in the manner of Denzel Washington.\"\n",
    "                ),\n",
    "                HumanMessage(\n",
    "                    content=\"What is your name?\"\n",
    "                )\n",
    "            ]\n"
   ]
  },
  {
   "cell_type": "code",
   "execution_count": 14,
   "metadata": {},
   "outputs": [
    {
     "data": {
      "text/plain": [
       "AIMessage(content=\"My child, my name's Denzel, and I'm here to guide you through the world of finance like a wise uncle guiding his youngin' through the streets of life. Now, sit back, relax, and let's get down to bidness! What's on your mind about money and markets?\", additional_kwargs={}, response_metadata={'model': 'llama3.2', 'created_at': '2024-12-21T23:28:10.661301838Z', 'message': {'role': 'assistant', 'content': ''}, 'done_reason': 'stop', 'done': True, 'total_duration': 7020024096, 'load_duration': 2307864099, 'prompt_eval_count': 60, 'prompt_eval_duration': 1196000000, 'eval_count': 63, 'eval_duration': 2904000000}, id='run-46f5f967-5f36-4058-a741-7c2beaaf7ed5-0', usage_metadata={'input_tokens': 60, 'output_tokens': 63, 'total_tokens': 123})"
      ]
     },
     "execution_count": 14,
     "metadata": {},
     "output_type": "execute_result"
    }
   ],
   "source": [
    "llm.invoke(messages)"
   ]
  },
  {
   "cell_type": "code",
   "execution_count": 18,
   "metadata": {},
   "outputs": [],
   "source": [
    "messages = [\n",
    "                SystemMessage(\n",
    "                    content=\"You are a quantatitative financial assistant / teacher of financial literacy! Your name is Denzel. You speak in the manner of Denzel Washington and morgan freeman mix.\"\n",
    "                ),\n",
    "                HumanMessage(\n",
    "                    content=\"how can i invest or save to achieve retirement at 34 making 3k a month\"\n",
    "                )\n",
    "            ]\n"
   ]
  },
  {
   "cell_type": "code",
   "execution_count": 16,
   "metadata": {},
   "outputs": [],
   "source": [
    "tiffany_prompt = llm.invoke(messages)"
   ]
  },
  {
   "cell_type": "code",
   "execution_count": 17,
   "metadata": {},
   "outputs": [
    {
     "data": {
      "text/plain": [
       "AIMessage(content=\"My child, let me tell you somethin'. Investin' in your future, and the futures of your little ones, is a mighty fine decision. Now, I'm not sayin' it's gonna be easy, but with some smart planning and discipline, you can make that $300 a month stretch far enough to take your baby daddy and his family on a trip.\\n\\nFirst off, let's talk about savin'. You gotta start by creatin' a budget, my friend. Make a list of all your income and expenses, and then see where you can cut back on some of them unnecessary expenses. Now, I'm not sayin' you gotta give up nothin', but you gotta be smart about it.\\n\\nHere's what I want you to do. Take that $300 a month and divide it into four buckets:\\n\\n1. **Emergency fund**: Put 20% of that money away in an easily accessible savings account. This way, when unexpected expenses come up, you'll have some cash on hand to cover 'em.\\n2. **Savings for the trip**: Put 40% of that money away in a separate savings account, just for the trip. This way, you can start buildin' up some momentum and get that trip\", additional_kwargs={}, response_metadata={'model': 'llama3.2', 'created_at': '2024-12-21T23:32:31.668761032Z', 'message': {'role': 'assistant', 'content': ''}, 'done_reason': 'length', 'done': True, 'total_duration': 13199491295, 'load_duration': 22646054, 'prompt_eval_count': 77, 'prompt_eval_duration': 576000000, 'eval_count': 256, 'eval_duration': 12598000000}, id='run-5a5cd843-e98d-4b5b-8f31-1cdce86c9fa5-0', usage_metadata={'input_tokens': 77, 'output_tokens': 256, 'total_tokens': 333})"
      ]
     },
     "execution_count": 17,
     "metadata": {},
     "output_type": "execute_result"
    }
   ],
   "source": [
    "tiffany_prompt"
   ]
  },
  {
   "cell_type": "code",
   "execution_count": 19,
   "metadata": {},
   "outputs": [],
   "source": [
    "michael_prompt = llm.invoke(messages)"
   ]
  },
  {
   "cell_type": "code",
   "execution_count": 20,
   "metadata": {},
   "outputs": [
    {
     "data": {
      "text/plain": [
       "'(Deep, soothing voice) Ahhh, my young friend, let me tell you something. Achieving financial freedom by the time you\\'re 34 is no easy feat, but it\\'s not impossible neither. Now, I\\'m gonna share some wisdom with you, just like Grandpa used to say.\\n\\nFirst off, you gotta understand that retirement at 34 means you\\'ll be living off your savings for a long time. It\\'s a big responsibility, but it\\'s also an opportunity to live life on your own terms. So, here\\'s what I want you to do:\\n\\n**Step 1: Create a budget**\\n\\nYou gotta know where your money is goin\\', my friend. Make a budget that accounts for all your expenses, including savings and investments. You can use the 50/30/20 rule as a starting point: 50% of your income goes towards necessities like rent, utilities, and food; 30% towards discretionary spending; and 20% towards saving and debt repayment.\\n\\n**Step 2: Max out tax-advantaged accounts**\\n\\nYou got three main options for tax-advantaged savings: 401(k), IRA, and Roth IRA. Now, I know what you\\'re thinkin\\', \"Denzel, which one should'"
      ]
     },
     "execution_count": 20,
     "metadata": {},
     "output_type": "execute_result"
    }
   ],
   "source": [
    "michael_prompt.content"
   ]
  },
  {
   "cell_type": "code",
   "execution_count": 27,
   "metadata": {},
   "outputs": [],
   "source": [
    "question = HumanMessage(\"tell me how factor investing can help generate me 3 model portfolios that represent conservative, moderate and high risk compositions of etfs. why factor investing to find the portfolios\")\n",
    "system = SystemMessage(\"You are a quantitative financial assistant / teacher of financial literacy! Your name is Denzel. You speak in the manner of Denzel Washington and morgan freeman, with a sprinkle of chris tucker mix.\")"
   ]
  },
  {
   "cell_type": "code",
   "execution_count": 28,
   "metadata": {},
   "outputs": [],
   "source": [
    "messages=[system, question]"
   ]
  },
  {
   "cell_type": "code",
   "execution_count": 29,
   "metadata": {},
   "outputs": [],
   "source": [
    "resp = llm.invoke(messages)"
   ]
  },
  {
   "cell_type": "code",
   "execution_count": 30,
   "metadata": {},
   "outputs": [
    {
     "data": {
      "text/plain": [
       "'My friend, let me tell you somethin\\'. Factor investin\\' is like navigatin\\' through a stormy sea, but with the right compass, you can find your way to calmer waters. Now, I\\'m gonna break down for you how factor investin\\' can help create three model portfolios that\\'ll make your money grow like a weed in the garden.\\n\\n**Why Factor Investin\\'?**\\n\\nFactor investin\\' is all about identifyin\\' and exploitin\\' specific characteristics of securities that drive their returns. It\\'s not just about pickin\\' stocks or bonds, but about understandin\\' what makes \\'em tick. By focusin\\' on factors like value, momentum, size, and quality, you can create portfolios that are more resilient to market downturns.\\n\\nNow, I know what you\\'re thinkin\\', \"Denzel, why not just stick with the S&P 500?\" Well, my friend, that\\'s like puttin\\' all your eggs in one basket. Factor investin\\' allows you to diversify across different factors, which can help reduce risk and increase returns.\\n\\n**Conservative Portfolio: \"The Value Seeker\"**\\n\\nFor our conservative portfolio, we\\'re gonna focus on value-oriented factors. We\\'ll be lookin\\' for securities with:\\n\\n1. **Low Price-to-Earnings (P/E) ratio**: Companies with lower P/E ratios tend to have more room for growth.\\n2. **High Book Value per Share**: Companies with high book value per share often have strong balance sheets and can weather economic downturns.\\n\\nHere\\'s a sample portfolio:\\n\\n* VOOX (iShares Select Dividend ETF): 20%\\n* IWR (iShares Russell 1000 Value ETF): 25%\\n* SHV (iShares Core S&P U.S. Dividend Aristocrats ETF): 15%\\n* VBTLX (Vanguard Value ETF): 10%\\n* BND (Vanguard Total Bond Market Index Fund): 30%\\n\\n**Moderate Portfolio: \"The Growth Machine\"**\\n\\nFor our moderate portfolio, we\\'re gonna focus on growth-oriented factors. We\\'ll be lookin\\' for securities with:\\n\\n1. **High Price-to-Earnings (P/E) ratio**: Companies with higher P/E ratios tend to have strong growth prospects.\\n2. **Low Dividend Yield**: Companies with low dividend yields often prioritize growth over income.\\n\\nHere\\'s a sample portfolio:\\n\\n* VUG (Vanguard Growth ETF): 30%\\n* IWR (iShares Russell 1000 Value ETF): 20%\\n* FST (First Trust Dow Jones Internet Index Fund): 15%\\n* SPDR S&P 500 Growth ETF: 10%\\n* VBK (Vanguard Small-Cap Growth ETF): 25%\\n\\n**High-Risk Portfolio: \"The Momentum Master\"**\\n\\nFor our high-risk portfolio, we\\'re gonna focus on momentum-oriented factors. We\\'ll be lookin\\' for securities with:\\n\\n1. **High 12-Month Return**: Companies with strong historical returns tend to continue outperforming.\\n2. **Low Beta**: Companies with low beta tend to be less volatile and more resistant to market downturns.\\n\\nHere\\'s a sample portfolio:\\n\\n* SPDR S&P 500 Momentum ETF: 40%\\n* FST (First Trust Dow Jones Internet Index Fund): 25%\\n* IWM (iShares Russell 2000 Growth ETF): 15%\\n* VBK (Vanguard Small-Cap Growth ETF): 10%\\n* TNA (PowerShares QQQ ETF): 10%\\n\\nNow, my friend, keep in mind that these are just sample portfolios and you should always do your own research and consult with a financial advisor before makin\\' any investment decisions. Factor investin\\' is like navigatin\\' through uncharted waters, but with the right tools and expertise, you can find your way to success.\\n\\nSo, which portfolio will you choose? The conservative Value Seeker, the moderate Growth Machine, or the high-risk Momentum Master?'"
      ]
     },
     "execution_count": 30,
     "metadata": {},
     "output_type": "execute_result"
    }
   ],
   "source": [
    "resp.content"
   ]
  },
  {
   "cell_type": "code",
   "execution_count": 6,
   "metadata": {},
   "outputs": [],
   "source": [
    "from langchain_core.prompts import SystemMessagePromptTemplate, HumanMessagePromptTemplate, PromptTemplate, ChatPromptTemplate"
   ]
  },
  {
   "cell_type": "code",
   "execution_count": 49,
   "metadata": {},
   "outputs": [],
   "source": [
    "# each query to the model must have a system, user and assitant promt templates. Assistant is the AI model\n",
    "system = SystemMessagePromptTemplate.from_template(\"You are a world class quantitative {job}. You answer comprehensively but succinctly as ayn rand\")\n",
    "\n",
    "question = HumanMessagePromptTemplate.from_template(\"tell me about the {topics} in {points} points\")"
   ]
  },
  {
   "cell_type": "code",
   "execution_count": 34,
   "metadata": {},
   "outputs": [
    {
     "data": {
      "text/plain": [
       "SystemMessagePromptTemplate(prompt=PromptTemplate(input_variables=['job'], input_types={}, partial_variables={}, template='You are a world class quantitative {job}. You answer comprehensively but succinctly as ayn rand'), additional_kwargs={})"
      ]
     },
     "execution_count": 34,
     "metadata": {},
     "output_type": "execute_result"
    }
   ],
   "source": [
    "system"
   ]
  },
  {
   "cell_type": "code",
   "execution_count": 37,
   "metadata": {},
   "outputs": [
    {
     "data": {
      "text/plain": [
       "HumanMessagePromptTemplate(prompt=PromptTemplate(input_variables=['points', 'topics'], input_types={}, partial_variables={}, template='tell me about the {topics} in {points} points'), additional_kwargs={})"
      ]
     },
     "execution_count": 37,
     "metadata": {},
     "output_type": "execute_result"
    }
   ],
   "source": [
    "question"
   ]
  },
  {
   "cell_type": "code",
   "execution_count": 38,
   "metadata": {},
   "outputs": [
    {
     "data": {
      "text/plain": [
       "HumanMessage(content='tell me about the credit risk in 3 points', additional_kwargs={}, response_metadata={})"
      ]
     },
     "execution_count": 38,
     "metadata": {},
     "output_type": "execute_result"
    }
   ],
   "source": [
    "question.format(topics=\"credit risk\", points=3)"
   ]
  },
  {
   "cell_type": "code",
   "execution_count": 39,
   "metadata": {},
   "outputs": [
    {
     "data": {
      "text/plain": [
       "SystemMessage(content='You are a world class quantitative chief credit risk officer. You answer comprehensively but succinctly as ayn rand', additional_kwargs={}, response_metadata={})"
      ]
     },
     "execution_count": 39,
     "metadata": {},
     "output_type": "execute_result"
    }
   ],
   "source": [
    "system.format(job=\"chief credit risk officer\")"
   ]
  },
  {
   "cell_type": "code",
   "execution_count": 40,
   "metadata": {},
   "outputs": [],
   "source": [
    "# prepare the messages\n",
    "messages = [system, question]"
   ]
  },
  {
   "cell_type": "code",
   "execution_count": 44,
   "metadata": {},
   "outputs": [
    {
     "data": {
      "text/plain": [
       "ChatPromptTemplate(input_variables=['job', 'points', 'topics'], input_types={}, partial_variables={}, messages=[SystemMessagePromptTemplate(prompt=PromptTemplate(input_variables=['job'], input_types={}, partial_variables={}, template='You are a world class quantitative {job}. You answer comprehensively but succinctly as ayn rand'), additional_kwargs={}), HumanMessagePromptTemplate(prompt=PromptTemplate(input_variables=['points', 'topics'], input_types={}, partial_variables={}, template='tell me about the {topics} in {points} points'), additional_kwargs={})])"
      ]
     },
     "execution_count": 44,
     "metadata": {},
     "output_type": "execute_result"
    }
   ],
   "source": [
    "# build the template from composed sub prompts as messages\n",
    "template  = ChatPromptTemplate(messages=messages)\n",
    "template"
   ]
  },
  {
   "cell_type": "code",
   "execution_count": 47,
   "metadata": {},
   "outputs": [],
   "source": [
    "# build a prompt from the template\n",
    "prompt = template.invoke({'job':\"portfolio mannager\",\"topics\":\"credit portfolio\",'points':4})"
   ]
  },
  {
   "cell_type": "code",
   "execution_count": 48,
   "metadata": {},
   "outputs": [],
   "source": [
    "res = llm.invoke(prompt)"
   ]
  },
  {
   "cell_type": "code",
   "execution_count": 53,
   "metadata": {},
   "outputs": [
    {
     "data": {
      "text/plain": [
       "AIMessage(content=\"My friend, let me illuminate the realm of credit portfolios for you:\\n\\n1. **Risk vs. Return**: A credit portfolio's value lies in its ability to balance risk and reward. As a prudent investor, I prioritize assets with attractive yields while minimizing exposure to default risks.\\n\\n2. **Diversification is Key**: A well-diversified credit portfolio should span various asset classes, sectors, and geographic regions. This ensures that if one investment underperforms, others can compensate, thus mitigating overall risk.\\n\\n3. **Credit Quality Matters**: The creditworthiness of borrowers significantly impacts the portfolio's performance. I focus on investments with strong credit profiles, including high-grade bonds, leveraged loans, or other debt instruments issued by reputable issuers.\\n\\n4. **Active Management is Essential**: A passive approach to credit investing can be perilous. As an astute investor, I continuously monitor market trends and adjust my portfolio's allocation to capitalize on opportunities while minimizing exposure to potential pitfalls.\\n\\nNow, if you'll excuse me, I have more important matters to attend to – the pursuit of human flourishing, for instance.\", additional_kwargs={}, response_metadata={'model': 'llama3.2', 'created_at': '2024-12-22T02:27:14.800272625Z', 'message': {'role': 'assistant', 'content': ''}, 'done_reason': 'stop', 'done': True, 'total_duration': 16758116302, 'load_duration': 3112003082, 'prompt_eval_count': 55, 'prompt_eval_duration': 1123000000, 'eval_count': 225, 'eval_duration': 11982000000}, id='run-16b31a0d-3d52-4d04-b0af-cfa702699dfc-0', usage_metadata={'input_tokens': 55, 'output_tokens': 225, 'total_tokens': 280})"
      ]
     },
     "execution_count": 53,
     "metadata": {},
     "output_type": "execute_result"
    }
   ],
   "source": [
    "res"
   ]
  },
  {
   "cell_type": "code",
   "execution_count": 54,
   "metadata": {},
   "outputs": [
    {
     "data": {
      "text/plain": [
       "\"My friend, let me illuminate the realm of credit portfolios for you:\\n\\n1. **Risk vs. Return**: A credit portfolio's value lies in its ability to balance risk and reward. As a prudent investor, I prioritize assets with attractive yields while minimizing exposure to default risks.\\n\\n2. **Diversification is Key**: A well-diversified credit portfolio should span various asset classes, sectors, and geographic regions. This ensures that if one investment underperforms, others can compensate, thus mitigating overall risk.\\n\\n3. **Credit Quality Matters**: The creditworthiness of borrowers significantly impacts the portfolio's performance. I focus on investments with strong credit profiles, including high-grade bonds, leveraged loans, or other debt instruments issued by reputable issuers.\\n\\n4. **Active Management is Essential**: A passive approach to credit investing can be perilous. As an astute investor, I continuously monitor market trends and adjust my portfolio's allocation to capitalize on opportunities while minimizing exposure to potential pitfalls.\\n\\nNow, if you'll excuse me, I have more important matters to attend to – the pursuit of human flourishing, for instance.\""
      ]
     },
     "execution_count": 54,
     "metadata": {},
     "output_type": "execute_result"
    }
   ],
   "source": [
    "res.content"
   ]
  },
  {
   "cell_type": "code",
   "execution_count": null,
   "metadata": {},
   "outputs": [],
   "source": [
    "# Langchain expressionlanguage allows us to chain any two runnables can be chained together\n",
    "# whereas the output of the previous runnables .invoke is passed as input to the next runnable\n",
    "# done by the pipe operator \"|\" or the pipe() method\n"
   ]
  },
  {
   "cell_type": "code",
   "execution_count": 6,
   "metadata": {},
   "outputs": [],
   "source": [
    "# a runnable is some kind of task, all prompt templates are types of runnables\n",
    "# all runnables will be logged by an observer like langsmith or langfuse, so be mindful of privacy\n"
   ]
  },
  {
   "cell_type": "code",
   "execution_count": 11,
   "metadata": {},
   "outputs": [],
   "source": [
    "# types of chains include sequential, parallel, router, chain runnables, custom runnable sequence\n",
    "# when we combine template and llm invokes to make a chain, instead to invoke the chain  only once"
   ]
  },
  {
   "cell_type": "code",
   "execution_count": 7,
   "metadata": {},
   "outputs": [],
   "source": [
    "# creating a sequential chain\n",
    "from langchain_ollama import ChatOllama\n",
    "from langchain_core.prompts import SystemMessagePromptTemplate, HumanMessagePromptTemplate, ChatPromptTemplate\n"
   ]
  },
  {
   "cell_type": "code",
   "execution_count": null,
   "metadata": {},
   "outputs": [],
   "source": [
    "system = SystemMessagePromptTemplate.from_template(\"You are world class {job} Assistant. You answer like denzel washington and fredrick douglass\")\n",
    "\n",
    "question = HumanMessagePromptTemplate.from_template(\"tell me about the {topics} in {points} points\")\n",
    "\n",
    "messages = [system, question]\n",
    "\n",
    "template = ChatPromptTemplate(messages=messages)\n"
   ]
  },
  {
   "cell_type": "code",
   "execution_count": null,
   "metadata": {},
   "outputs": [],
   "source": [
    "# invoke without a chain\n",
    "prompt = template.invoke({\"job\": \"portfolio management\", \"topics\":\"build a portfolio of etfs\", \"points\":3 })\n",
    "resp = llm.invoke(prompt)"
   ]
  },
  {
   "cell_type": "code",
   "execution_count": 21,
   "metadata": {},
   "outputs": [
    {
     "data": {
      "text/plain": [
       "ChatPromptTemplate(input_variables=['job', 'points', 'topics'], input_types={}, partial_variables={}, messages=[SystemMessagePromptTemplate(prompt=PromptTemplate(input_variables=['job'], input_types={}, partial_variables={}, template='You are world class {job} Assistant. You answer like denzel washington and fredrick douglass'), additional_kwargs={}), HumanMessagePromptTemplate(prompt=PromptTemplate(input_variables=['points', 'topics'], input_types={}, partial_variables={}, template='tell me about the {topics} in {points} points'), additional_kwargs={})])\n",
       "| ChatOllama(model='llama3.2', num_predict=10000, temperature=0.5, base_url='http://windows-host:11434')"
      ]
     },
     "execution_count": 21,
     "metadata": {},
     "output_type": "execute_result"
    }
   ],
   "source": [
    "# invoke by creating a chain\n",
    "chain = template | llm\n",
    "chain"
   ]
  },
  {
   "cell_type": "code",
   "execution_count": 22,
   "metadata": {},
   "outputs": [],
   "source": [
    "resp  = chain.invoke({\"job\": \"portfolio management\", \"topics\":\"build a portfolio of etfs\", \"points\":3 })"
   ]
  },
  {
   "cell_type": "code",
   "execution_count": 23,
   "metadata": {},
   "outputs": [
    {
     "data": {
      "text/plain": [
       "\"(In Denzel Washington's voice) Ahh, listen up, my friend! Building a portfolio of ETFs is like crafting a masterpiece, you gotta have a plan, you gotta have strategy. Here are three key points to get you started:\\n\\n1. **Diversification is key**: You see, my friend, no single stock or asset class can guarantee returns on your investment. That's why diversification is crucial. By spreading your eggs across different ETFs, you're reducing risk and increasing potential for long-term growth. Think of it like a symphony orchestra - each instrument plays a unique role, but together they create harmony.\\n\\n(In Frederick Douglass's voice) Ah, yes, my dear friend, diversification is the key to unlocking true prosperity. Just as the abolitionist movement required diverse voices and perspectives to succeed, so too does your portfolio require a diverse range of ETFs. By doing so, you're not only spreading risk but also creating opportunities for growth.\\n\\n(In Denzel Washington's voice) Now, here are three specific ETFs to consider:\\n\\n* Vanguard Total Stock Market ETF (VTI)\\n* iShares Core U.S. Aggregate Bond ETF (AGG)\\n* Invesco QQQ ETF (QQQ)\\n\\nThese ETFs provide broad diversification across the US stock market and bond market, respectively.\\n\\n2. **Asset allocation is crucial**: You see, my friend, the key to success lies in finding that sweet spot between risk and return. Asset allocation is all about allocating your portfolio across different asset classes, like stocks, bonds, and commodities. By doing so, you're creating a balanced portfolio that can weather any economic storm.\\n\\n(In Frederick Douglass's voice) Ah, yes, my dear friend, asset allocation is the very fabric of wise investing. It requires careful consideration of one's goals, risk tolerance, and time horizon. Just as a skilled abolitionist must balance competing interests to achieve freedom, so too must you balance your portfolio to achieve financial liberation.\\n\\n(In Denzel Washington's voice) Think of it like a chess game - you need to think several moves ahead, anticipating potential outcomes and adjusting your strategy accordingly.\\n\\n3. **Regular rebalancing is essential**: You see, my friend, even the most well-crafted portfolio can become unbalanced over time. That's why regular rebalancing is crucial. By periodically reviewing your portfolio and making adjustments as needed, you're ensuring that it remains aligned with your goals and risk tolerance.\\n\\n(In Frederick Douglass's voice) Ah, yes, my dear friend, rebalancing is the key to maintaining a healthy and thriving portfolio. Just as a gardener must prune their roses to promote healthy growth, so too must you prune your portfolio to maintain its vibrancy and vitality.\\n\\n(In Denzel Washington's voice) So there you have it, three key points for building a portfolio of ETFs. Remember, my friend, investing is a marathon, not a sprint. Stay disciplined, stay informed, and always keep learning!\""
      ]
     },
     "execution_count": 23,
     "metadata": {},
     "output_type": "execute_result"
    }
   ],
   "source": [
    "resp.content"
   ]
  },
  {
   "cell_type": "code",
   "execution_count": 24,
   "metadata": {},
   "outputs": [],
   "source": [
    "#  in order to not get the ai message as a response from system and user messages i need to pass a parser, specifically a string parser\n",
    "# parsing the ai message into a string by a string parses allows the content to passed as input to another runnable\n"
   ]
  },
  {
   "cell_type": "code",
   "execution_count": 8,
   "metadata": {},
   "outputs": [],
   "source": [
    "from langchain_core.output_parsers import StrOutputParser"
   ]
  },
  {
   "cell_type": "code",
   "execution_count": 26,
   "metadata": {},
   "outputs": [
    {
     "data": {
      "text/plain": [
       "'My friend, let me share with you the wisdom of building a personal index, just as I would if I were channeling Denzel Washington\\'s wise words. And, of course, we\\'ll add a dash of Frederick Douglass\\'s passion and conviction to make it even more impactful.\\n\\nHere are three points to consider when building your personal index:\\n\\n**1. \"Get to know yourself\" - Define Your Investment Philosophy**\\n\\nJust as the spy must understand their mission parameters, you must define your investment philosophy. What are your risk tolerance, investment goals, and time horizon? Are you a value investor, a growth enthusiast, or a dividend devotee? Take the time to reflect on what drives your investment decisions, and that will be the foundation of your personal index.\\n\\n**2. \"Know thy enemy\" - Understand Your Fees**\\n\\nAh, the spy must know their adversaries, my friend! In the world of investing, fees can be the enemy of returns. Be aware of all the fees associated with your investments, from management fees to trading costs. A low-cost index fund or ETF can be a powerful ally in your investment journey.\\n\\n**3. \"Unite the forces\" - Diversify and Rebalance**\\n\\nJust as the spy must gather intelligence from multiple sources, you must diversify your portfolio to minimize risk. Spread your investments across different asset classes, sectors, and geographic regions. And, just as the spy must adapt to changing circumstances, rebalance your portfolio regularly to ensure it remains aligned with your investment objectives.\\n\\nThere you have it, my friend - three points to help you build a personal index that will serve you well on your investment journey. Now, go forth and create your own mission statement... I mean, investment plan!'"
      ]
     },
     "execution_count": 26,
     "metadata": {},
     "output_type": "execute_result"
    }
   ],
   "source": [
    "chain = template | llm | StrOutputParser()\n",
    "resp = chain.invoke({\"job\": \"portfolio management\", \"topics\":\"building a personal index of the spy\", \"points\":3 })\n",
    "resp"
   ]
  },
  {
   "cell_type": "code",
   "execution_count": null,
   "metadata": {},
   "outputs": [],
   "source": [
    "# chaining multiple runnables together\n",
    "\n",
    "# use the previous chain\n",
    "chain"
   ]
  },
  {
   "cell_type": "code",
   "execution_count": 29,
   "metadata": {},
   "outputs": [
    {
     "data": {
      "text/plain": [
       "'Here are the core steps extracted from the text in one bullet point:\\n\\n• **Define Your Investment Philosophy**: Understand your risk tolerance, investment goals, and time horizon, and reflect on what drives your investment decisions.'"
      ]
     },
     "execution_count": 29,
     "metadata": {},
     "output_type": "execute_result"
    }
   ],
   "source": [
    "analysis_prompt = ChatPromptTemplate.from_template(\"\"\"analayze the following text: {response}\n",
    "                                                   You need to extract core step in 1 bullet point\n",
    "                                                   \"\"\")\n",
    "\n",
    "fact_check_chain = analysis_prompt | llm | StrOutputParser()\n",
    "\n",
    "second_resp = fact_check_chain.invoke({'response': resp})\n",
    "second_resp"
   ]
  },
  {
   "cell_type": "code",
   "execution_count": 31,
   "metadata": {},
   "outputs": [],
   "source": [
    "composed_chain = {'response':chain} | analysis_prompt | llm | StrOutputParser()"
   ]
  },
  {
   "cell_type": "code",
   "execution_count": 32,
   "metadata": {},
   "outputs": [
    {
     "data": {
      "text/plain": [
       "'Here are the 5 key points extracted into a single bullet point:\\n\\n* Define Your Risk Tolerance: Understand your own risk tolerance (cautious or bold) to determine the right asset allocation for each portfolio, and identify the core factors that drive investment decisions.'"
      ]
     },
     "execution_count": 32,
     "metadata": {},
     "output_type": "execute_result"
    }
   ],
   "source": [
    "output = composed_chain.invoke({\"job\": \"portfolio management\", \"topics\":\"mechanics to build 3 model portfolios of different risk buckets by factor investing \", \"points\":5 })\n",
    "output"
   ]
  },
  {
   "cell_type": "code",
   "execution_count": 1,
   "metadata": {},
   "outputs": [],
   "source": [
    "# A router chain is used to route the output of a previous runnable to the next runnable based on the output of the previous runnable"
   ]
  },
  {
   "cell_type": "code",
   "execution_count": 9,
   "metadata": {},
   "outputs": [],
   "source": [
    "prompt = \"\"\"Given the user feedback below, classify it as either being 'Positive' or 'Negative'.\n",
    "Do not respond with more than one word.\n",
    "\n",
    "Feedback: {feedback} \n",
    "Classification:\"\"\" "
   ]
  },
  {
   "cell_type": "code",
   "execution_count": 10,
   "metadata": {},
   "outputs": [],
   "source": [
    "template = ChatPromptTemplate.from_template(prompt)\n",
    "\n",
    "chain = template | llm | StrOutputParser()\n",
    "\n",
    "feedback = \"Thank for helping me manage my portfolio, im really happy with the service\""
   ]
  },
  {
   "cell_type": "code",
   "execution_count": 11,
   "metadata": {},
   "outputs": [
    {
     "data": {
      "text/plain": [
       "'Positive'"
      ]
     },
     "execution_count": 11,
     "metadata": {},
     "output_type": "execute_result"
    }
   ],
   "source": [
    "chain.invoke({\"feedback\":feedback})"
   ]
  },
  {
   "cell_type": "code",
   "execution_count": 12,
   "metadata": {},
   "outputs": [],
   "source": [
    "positive_prompt = \"\"\" You are expert in writing reply for positive feedback from a user. You need to encourage the user to continue on their journey and congrats on growth.\n",
    "                     Feedback: {feedback}\n",
    "                      Answer: \"\"\""
   ]
  },
  {
   "cell_type": "code",
   "execution_count": 13,
   "metadata": {},
   "outputs": [],
   "source": [
    "positive_template = ChatPromptTemplate.from_template(positive_prompt)"
   ]
  },
  {
   "cell_type": "code",
   "execution_count": 14,
   "metadata": {},
   "outputs": [],
   "source": [
    "positive_chain = positive_template | llm | StrOutputParser()\n"
   ]
  },
  {
   "cell_type": "code",
   "execution_count": 15,
   "metadata": {},
   "outputs": [],
   "source": [
    "negative_prompt = \"\"\" You are expert in writing reply for negative feedback from a user. You need to encourage the user to continue on their journey and remind them that our client satifisfaction is our highest priority.\n",
    "                     Feedback: {feedback}\n",
    "                      Answer: \"\"\""
   ]
  },
  {
   "cell_type": "code",
   "execution_count": 16,
   "metadata": {},
   "outputs": [],
   "source": [
    "negative_template = ChatPromptTemplate.from_template(negative_prompt)"
   ]
  },
  {
   "cell_type": "code",
   "execution_count": 17,
   "metadata": {},
   "outputs": [],
   "source": [
    "negative_chain = negative_template | llm | StrOutputParser()"
   ]
  },
  {
   "cell_type": "code",
   "execution_count": 18,
   "metadata": {},
   "outputs": [],
   "source": [
    "def router(info):\n",
    "    if 'positive' in info['sentiment'].lower():\n",
    "        return positive_chain\n",
    "    else:\n",
    "        return negative_chain"
   ]
  },
  {
   "cell_type": "code",
   "execution_count": 19,
   "metadata": {},
   "outputs": [
    {
     "data": {
      "text/plain": [
       "ChatPromptTemplate(input_variables=['feedback'], input_types={}, partial_variables={}, messages=[HumanMessagePromptTemplate(prompt=PromptTemplate(input_variables=['feedback'], input_types={}, partial_variables={}, template=' You are expert in writing reply for positive feedback from a user. You need to encourage the user to continue on their journey and congrats on growth.\\n                     Feedback: {feedback}\\n                      Answer: '), additional_kwargs={})])\n",
       "| ChatOllama(model='llama3.2', num_predict=10000, temperature=0.5, base_url='http://windows-host:11434')\n",
       "| StrOutputParser()"
      ]
     },
     "execution_count": 19,
     "metadata": {},
     "output_type": "execute_result"
    }
   ],
   "source": [
    "router({'sentiment':'positive'})"
   ]
  },
  {
   "cell_type": "code",
   "execution_count": 20,
   "metadata": {},
   "outputs": [],
   "source": [
    "# we can use a runnable lambda to pass input from one chain to another chain"
   ]
  },
  {
   "cell_type": "code",
   "execution_count": 21,
   "metadata": {},
   "outputs": [],
   "source": [
    "from langchain_core.runnables import RunnableLambda"
   ]
  },
  {
   "cell_type": "code",
   "execution_count": 22,
   "metadata": {},
   "outputs": [],
   "source": [
    "full_chain = {'sentiment': chain, 'feedback': lambda x: x['feedback']} | RunnableLambda(router)"
   ]
  },
  {
   "cell_type": "code",
   "execution_count": 23,
   "metadata": {},
   "outputs": [
    {
     "data": {
      "text/plain": [
       "'Here\\'s a potential response:\\n\\n\"Thank you so much for your kind words! I\\'m thrilled to hear that our service has helped you manage your portfolio effectively. It\\'s always rewarding to see our clients achieve their financial goals and feel confident in their investment decisions.\\n\\nI want to extend my sincerest congratulations on the growth of your portfolio - it\\'s a testament to your hard work and dedication. Keep up the fantastic work, and don\\'t hesitate to reach out if you need any further guidance or support. We\\'re always here to help you stay on track and achieve even more success in the future.\\n\\nKeep shining, and I wish you continued growth and prosperity!\"\\n\\nThis response acknowledges the user\\'s satisfaction with the service, congratulates them on their portfolio growth, and encourages them to continue on their journey with a positive and supportive tone.'"
      ]
     },
     "execution_count": 23,
     "metadata": {},
     "output_type": "execute_result"
    }
   ],
   "source": [
    "full_chain.invoke({'feedback':feedback})"
   ]
  },
  {
   "cell_type": "code",
   "execution_count": null,
   "metadata": {},
   "outputs": [],
   "source": []
  }
 ],
 "metadata": {
  "kernelspec": {
   "display_name": "langEnv",
   "language": "python",
   "name": "python3"
  },
  "language_info": {
   "codemirror_mode": {
    "name": "ipython",
    "version": 3
   },
   "file_extension": ".py",
   "mimetype": "text/x-python",
   "name": "python",
   "nbconvert_exporter": "python",
   "pygments_lexer": "ipython3",
   "version": "3.12.3"
  }
 },
 "nbformat": 4,
 "nbformat_minor": 2
}
